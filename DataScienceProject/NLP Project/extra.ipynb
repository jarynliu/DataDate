{
 "cells": [
  {
   "cell_type": "markdown",
   "id": "48436511",
   "metadata": {},
   "source": [
    "1. Analyse how easy to read this text"
   ]
  },
  {
   "cell_type": "code",
   "execution_count": 1,
   "id": "40059978",
   "metadata": {},
   "outputs": [],
   "source": [
    "f=open(\"text/com.txt\")\n",
    "text=f.read()"
   ]
  },
  {
   "cell_type": "markdown",
   "id": "d38dda8b",
   "metadata": {},
   "source": [
    "Score\tDifficulty\n",
    "\n",
    "90-100\tVery Easy\n",
    "\n",
    "80-89\tEasy\n",
    "\n",
    "70-79\tFairly Easy\n",
    "\n",
    "60-69\tStandard\n",
    "\n",
    "50-59\tFairly Difficult\n",
    "\n",
    "30-49\tDifficult\n",
    "\n",
    "0-29\tVery Confusing"
   ]
  },
  {
   "cell_type": "code",
   "execution_count": 4,
   "id": "6c422a03",
   "metadata": {},
   "outputs": [
    {
     "data": {
      "text/plain": [
       "37.44"
      ]
     },
     "execution_count": 4,
     "metadata": {},
     "output_type": "execute_result"
    }
   ],
   "source": [
    "from textstat import flesch_reading_ease\n",
    "flesch_reading_ease(text)"
   ]
  },
  {
   "cell_type": "markdown",
   "id": "9c8fff30",
   "metadata": {},
   "source": [
    "The Text is difficult to read"
   ]
  },
  {
   "cell_type": "code",
   "execution_count": 5,
   "id": "7cb3e6ea",
   "metadata": {},
   "outputs": [
    {
     "data": {
      "text/plain": [
       "14.3"
      ]
     },
     "execution_count": 5,
     "metadata": {},
     "output_type": "execute_result"
    }
   ],
   "source": [
    "from textstat import flesch_kincaid_grade\n",
    "flesch_kincaid_grade(text)"
   ]
  },
  {
   "cell_type": "markdown",
   "id": "eb45d2bb",
   "metadata": {},
   "source": [
    "the text is only readable for 14th grader and above"
   ]
  },
  {
   "cell_type": "markdown",
   "id": "051c5d6d",
   "metadata": {},
   "source": [
    "2.Analyse the entity of words"
   ]
  },
  {
   "cell_type": "code",
   "execution_count": 17,
   "id": "36941d37",
   "metadata": {},
   "outputs": [],
   "source": [
    "import spacy\n",
    "from collections import  Counter\n",
    "import seaborn as sns\n",
    "\n",
    "\n",
    "nlp = spacy.load(\"en_core_web_sm\")\n",
    "doc=nlp(text)\n",
    "ent=[X.label_ for X in doc.ents]\n"
   ]
  },
  {
   "cell_type": "code",
   "execution_count": 18,
   "id": "34b6b6ee",
   "metadata": {},
   "outputs": [
    {
     "data": {
      "text/plain": [
       "<AxesSubplot:>"
      ]
     },
     "execution_count": 18,
     "metadata": {},
     "output_type": "execute_result"
    },
    {
     "data": {
      "image/png": "[encoded data removed]",
      "text/plain": [
       "<Figure size 432x288 with 1 Axes>"
      ]
     },
     "metadata": {
      "needs_background": "light"
     },
     "output_type": "display_data"
    }
   ],
   "source": [
    "counter=Counter(ent)\n",
    "count=counter.most_common()\n",
    "\n",
    "x,y=map(list,zip(*count))\n",
    "sns.barplot(x=y,y=x)"
   ]
  },
  {
   "cell_type": "code",
   "execution_count": null,
   "id": "15f8e849",
   "metadata": {},
   "outputs": [],
   "source": []
  }
 ],
 "metadata": {
  "kernelspec": {
   "display_name": "Python 3 (ipykernel)",
   "language": "python",
   "name": "python3"
  },
  "language_info": {
   "codemirror_mode": {
    "name": "ipython",
    "version": 3
   },
   "file_extension": ".py",
   "mimetype": "text/x-python",
   "name": "python",
   "nbconvert_exporter": "python",
   "pygments_lexer": "ipython3",
   "version": "3.9.12"
  }
 },
 "nbformat": 4,
 "nbformat_minor": 5
}
